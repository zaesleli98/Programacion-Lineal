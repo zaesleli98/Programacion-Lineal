{
 "cells": [
  {
   "cell_type": "markdown",
   "metadata": {},
   "source": [
    "# Pregunta 1\n",
    "\n",
    "Resuelve el siguiente problema (cualquier método):\n",
    "   \\begin{equation*}\n",
    "   \\begin{aligned}\n",
    "   \\text{Maximizar} \\quad & x+2y\\\\\n",
    "   \\text{sujeto a} \\quad &\n",
    "     \\begin{aligned}\n",
    "      x &\\geq  0\\\\\n",
    "      y &\\geq 0\\\\\n",
    "      2x+y &\\leq 2\n",
    "     \\end{aligned}\n",
    "   \\end{aligned}\n",
    "   \\end{equation*}"
   ]
  },
  {
   "cell_type": "code",
   "execution_count": 1,
   "metadata": {},
   "outputs": [
    {
     "data": {
      "text/plain": [
       "<matplotlib.legend.Legend at 0x7f17cbbce908>"
      ]
     },
     "execution_count": 1,
     "metadata": {},
     "output_type": "execute_result"
    },
    {
     "data": {
      "image/png": "[encoded data removed]",
      "text/plain": [
       "<Figure size 432x288 with 1 Axes>"
      ]
     },
     "metadata": {
      "needs_background": "light"
     },
     "output_type": "display_data"
    }
   ],
   "source": [
    "import numpy as np\n",
    "import matplotlib.pyplot as plt\n",
    "%matplotlib inline\n",
    "\n",
    "x = np.linspace(0, 1, 200)\n",
    "y = 2-2*x\n",
    "plt.plot(x, y, label=r'$2x+y\\leq2$')\n",
    "\n",
    "y5 = np.minimum(x, y)\n",
    "plt.fill_between(x, y, where=y>0, color='purple', alpha=0.5)\n",
    "plt.legend(bbox_to_anchor=(1.05, 1), loc=2, borderaxespad=0.)"
   ]
  },
  {
   "cell_type": "code",
   "execution_count": 1,
   "metadata": {},
   "outputs": [],
   "source": [
    "from pulp import *\n",
    "\n",
    "x = LpVariable(\"x\", 0)\n",
    "y = LpVariable(\"y\", 0)"
   ]
  },
  {
   "cell_type": "code",
   "execution_count": 2,
   "metadata": {},
   "outputs": [],
   "source": [
    "prob = LpProblem(\"Pregunta 1\", LpMaximize)\n",
    "prob += 2*x + y <= 2"
   ]
  },
  {
   "cell_type": "code",
   "execution_count": 3,
   "metadata": {},
   "outputs": [],
   "source": [
    "prob += x + 2*y"
   ]
  },
  {
   "cell_type": "code",
   "execution_count": 4,
   "metadata": {},
   "outputs": [
    {
     "data": {
      "text/plain": [
       "Pregunta 1:\n",
       "MAXIMIZE\n",
       "1*x + 2*y + 0\n",
       "SUBJECT TO\n",
       "_C1: 2 x + y <= 2\n",
       "\n",
       "VARIABLES\n",
       "x Continuous\n",
       "y Continuous"
      ]
     },
     "execution_count": 4,
     "metadata": {},
     "output_type": "execute_result"
    }
   ],
   "source": [
    "prob"
   ]
  },
  {
   "cell_type": "code",
   "execution_count": 7,
   "metadata": {},
   "outputs": [
    {
     "data": {
      "text/plain": [
       "(0.0, 2.0, 4.0)"
      ]
     },
     "execution_count": 7,
     "metadata": {},
     "output_type": "execute_result"
    }
   ],
   "source": [
    "status = prob.solve()\n",
    "value(x), value(y), value(prob.objective)"
   ]
  },
  {
   "cell_type": "markdown",
   "metadata": {},
   "source": [
    "# Pregunta 2\n",
    "\n",
    "Resuelve el siguiente problema (cualquier método):\n",
    "   \\begin{equation*}\n",
    "    \\begin{aligned}\n",
    "   \\text{Maximizar} \\quad & x_{1}+2x_{2}\\\\\n",
    "   \\text{sujeto a} \\quad &\n",
    "     \\begin{aligned}\n",
    "      3x_{1}+4x_{2} &\\leq 12\\\\\n",
    "      x_{1}-x_{2} &\\leq 2\\\\\n",
    "      -2x_{1}+x_{2} &\\leq 2\\\\\n",
    "       x_{1} &\\geq 0\\\\\n",
    "       x_{2} &\\geq 0\n",
    "     \\end{aligned}\n",
    "   \\end{aligned}\n",
    "   \\end{equation*}"
   ]
  },
  {
   "cell_type": "code",
   "execution_count": 9,
   "metadata": {},
   "outputs": [],
   "source": [
    "x1 = LpVariable(\"x1\", 0)\n",
    "x2 = LpVariable(\"x2\", 0)"
   ]
  },
  {
   "cell_type": "code",
   "execution_count": 10,
   "metadata": {},
   "outputs": [],
   "source": [
    "prob = LpProblem(\"Pregunta 2\", LpMaximize)\n",
    "prob += 3*x1 + 4*x2 <= 12\n",
    "prob += x1 - x2 <= 2\n",
    "prob += -2*x1 + x2 <= 2\n",
    "prob += x1 + 2*x2 "
   ]
  },
  {
   "cell_type": "code",
   "execution_count": 11,
   "metadata": {},
   "outputs": [
    {
     "data": {
      "text/plain": [
       "Pregunta 2:\n",
       "MAXIMIZE\n",
       "1*x1 + 2*x2 + 0\n",
       "SUBJECT TO\n",
       "_C1: 3 x1 + 4 x2 <= 12\n",
       "\n",
       "_C2: x1 - x2 <= 2\n",
       "\n",
       "_C3: - 2 x1 + x2 <= 2\n",
       "\n",
       "VARIABLES\n",
       "x1 Continuous\n",
       "x2 Continuous"
      ]
     },
     "execution_count": 11,
     "metadata": {},
     "output_type": "execute_result"
    }
   ],
   "source": [
    "prob"
   ]
  },
  {
   "cell_type": "code",
   "execution_count": 13,
   "metadata": {},
   "outputs": [
    {
     "data": {
      "text/plain": [
       "(0.36363636, 2.7272727, 5.81818176)"
      ]
     },
     "execution_count": 13,
     "metadata": {},
     "output_type": "execute_result"
    }
   ],
   "source": [
    "status = prob.solve()\n",
    "value(x1), value(x2), value(prob.objective)"
   ]
  },
  {
   "cell_type": "markdown",
   "metadata": {},
   "source": [
    "# Pregunta 3\n",
    "\n",
    "Resuelve el siguiente problema (cualquier método):\n",
    "   \\begin{equation*}\n",
    "   \\begin{aligned}\n",
    "   \\text{Maximizar} \\quad & 4x_{1}+x_{2}+3x_{3}\\\\\n",
    "   \\text{sujeto a} \\quad &\n",
    "     \\begin{aligned}\n",
    "      x_{1} & \\leq 3\\\\\n",
    "      x_{2} &\\leq 5\\\\\n",
    "      x_{3} &\\leq 2\\\\\n",
    "      x_{1}+x_{2}+2x_{3} &\\leq 10\\\\\n",
    "      x_{1},x_{2},x_{3} &\\geq 0\n",
    "     \\end{aligned}\n",
    "   \\end{aligned}\n",
    "   \\end{equation*}"
   ]
  },
  {
   "cell_type": "code",
   "execution_count": 20,
   "metadata": {},
   "outputs": [],
   "source": [
    "x1 = LpVariable(\"x1\", 0 , 3)\n",
    "x2 = LpVariable(\"x2\", 0 , 5)\n",
    "x3 = LpVariable(\"x3\", 0 , 2)\n",
    "\n",
    "prob = LpProblem(\"Pregunta 3\", LpMaximize)\n",
    "prob += x1 + x2 + 2*x3 <= 10\n",
    "prob += 4*x1 + x2 + 3*x3 "
   ]
  },
  {
   "cell_type": "code",
   "execution_count": 21,
   "metadata": {},
   "outputs": [
    {
     "data": {
      "text/plain": [
       "Pregunta 3:\n",
       "MAXIMIZE\n",
       "4*x1 + 1*x2 + 3*x3 + 0\n",
       "SUBJECT TO\n",
       "_C1: x1 + x2 + 2 x3 <= 10\n",
       "\n",
       "VARIABLES\n",
       "x1 <= 3 Continuous\n",
       "x2 <= 5 Continuous\n",
       "x3 <= 2 Continuous"
      ]
     },
     "execution_count": 21,
     "metadata": {},
     "output_type": "execute_result"
    }
   ],
   "source": [
    "prob"
   ]
  },
  {
   "cell_type": "code",
   "execution_count": 23,
   "metadata": {},
   "outputs": [
    {
     "data": {
      "text/plain": [
       "(3.0, 3.0, 2.0, 21.0)"
      ]
     },
     "execution_count": 23,
     "metadata": {},
     "output_type": "execute_result"
    }
   ],
   "source": [
    "status = prob.solve()\n",
    "value(x1), value(x2), value(x3), value(prob.objective)"
   ]
  },
  {
   "cell_type": "markdown",
   "metadata": {},
   "source": [
    "# Pregunta 4\n",
    "\n",
    "Un gerente está planeando cómo distribuir la producción de tres\n",
    "   productos entre dos máquinas. Para ser manufacturado cada producto\n",
    "   requiere cierto tiempo (en horas) en cada una de las máquinas.\n",
    "\n",
    "   El tiempo requerido está resumido en la siguiente tabla:\n",
    "        \n",
    "| Prod.\\Máq. | Máq. 1 | Máq. 2 |\n",
    "|------------|--------|--------|\n",
    "| A          | 1      | 1      |\n",
    "| B          | 2      | 1      |\n",
    "| C          | 2      | 2      |\n",
    "\n",
    "La máquina 1 está disponible 40 horas a la semana y la 2 está\n",
    "   disponible 34 horas a la semana.\n",
    "\n",
    "   Si la utilidad obtenida al vender los productos A, B y C es de 2, 3\n",
    "   y 5 pesos por unidad, respectivamente, ¿cuál debe ser la producción\n",
    "   semanal que maximiza la utilidad? ¿Cuál es la utilidad máxima?"
   ]
  },
  {
   "cell_type": "code",
   "execution_count": 25,
   "metadata": {},
   "outputs": [],
   "source": [
    "x1 = LpVariable(\"x1\", 0)\n",
    "x2 = LpVariable(\"x2\", 0)\n",
    "x3 = LpVariable(\"x3\", 0)\n",
    "\n",
    "prob = LpProblem(\"Pregunta 4\", LpMaximize)\n",
    "prob += x1 + 2*x2 + 2*x3 <= 40\n",
    "prob += x1 + x2 + 2*x3 <= 34\n",
    "prob += 2*x1 + 3*x2 + 5*x3"
   ]
  },
  {
   "cell_type": "code",
   "execution_count": 26,
   "metadata": {},
   "outputs": [
    {
     "data": {
      "text/plain": [
       "Pregunta 4:\n",
       "MAXIMIZE\n",
       "2*x1 + 3*x2 + 5*x3 + 0\n",
       "SUBJECT TO\n",
       "_C1: x1 + 2 x2 + 2 x3 <= 40\n",
       "\n",
       "_C2: x1 + x2 + 2 x3 <= 34\n",
       "\n",
       "VARIABLES\n",
       "x1 Continuous\n",
       "x2 Continuous\n",
       "x3 Continuous"
      ]
     },
     "execution_count": 26,
     "metadata": {},
     "output_type": "execute_result"
    }
   ],
   "source": [
    "prob"
   ]
  },
  {
   "cell_type": "code",
   "execution_count": 27,
   "metadata": {},
   "outputs": [
    {
     "data": {
      "text/plain": [
       "(0.0, 6.0, 14.0, 88.0)"
      ]
     },
     "execution_count": 27,
     "metadata": {},
     "output_type": "execute_result"
    }
   ],
   "source": [
    "status = prob.solve()\n",
    "value(x1), value(x2), value(x3), value(prob.objective)"
   ]
  },
  {
   "cell_type": "markdown",
   "metadata": {},
   "source": [
    "# Pregunta 5\n",
    "\n",
    "Demuestra que el conjunto $\\{(x,y)\\mid x\\geq 0\\}\\subseteq\n",
    "   \\mathbb{R}^{2}$ es convexo."
   ]
  },
  {
   "cell_type": "markdown",
   "metadata": {},
   "source": [
    "$(x_1, y_1), (x_2, y_2)$ pertenece a $x$.\n",
    "\n",
    "Por demostrar: si $t \\in [0,1]$ $t(x_1, y_1)+(1-t)(x_2,y_2) \\in x$\n",
    "    $(tx_1+(1-t)x_2, ty, +(1-t)y_2) \\in x$\n",
    "    $tx_1+(1-t)x_2\\geq0$ pues $x_1\\geq0$ entonces $tx_1\\geq0, x_2\\geq0, (1-t)x_2\\geq0$.\n",
    "    \n",
    "Por lo tanto $tx_1+(1-t)x_2\\geq0$ y por lo tanto $t(x_1, y_1)+(1-t)(x_2,y_2) \\in x$"
   ]
  },
  {
   "cell_type": "markdown",
   "metadata": {},
   "source": [
    "# Pregunta 6\n",
    "\n",
    "Demuestra que la intersección de dos conjuntos convexos es convexo.\n"
   ]
  },
  {
   "cell_type": "markdown",
   "metadata": {},
   "source": [
    "$x,y \\in$ a $x_1 \\cap x_2$. P.D.\n",
    "\n",
    "P.D. $tx+(1-t)y \\in$ a $x_1 \\cap x_2$ para todo $t \\in$ a $[0,1]$\n",
    "$x,y \\in$ a $x_1$ entonces $tx+(1-t)y \\in$ a $x_1$\n",
    "$x,y \\in$ a $x_2$ entonces $tx+(1-t)y \\in$ a $x_2$.\n",
    "\n",
    "Entonces $tx+(1-t)y  \\in$ a  $x_1 \\cap x_2$."
   ]
  }
 ],
 "metadata": {
  "kernelspec": {
   "display_name": "Python 3",
   "language": "python",
   "name": "python3"
  },
  "language_info": {
   "codemirror_mode": {
    "name": "ipython",
    "version": 3
   },
   "file_extension": ".py",
   "mimetype": "text/x-python",
   "name": "python",
   "nbconvert_exporter": "python",
   "pygments_lexer": "ipython3",
   "version": "3.7.0"
  }
 },
 "nbformat": 4,
 "nbformat_minor": 2
}
